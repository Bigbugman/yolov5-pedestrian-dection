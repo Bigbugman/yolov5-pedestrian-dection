{
 "cells": [
  {
   "cell_type": "markdown",
   "metadata": {},
   "source": [
    "## 5.0 Results\n",
    "### 5.1 Before Data augmentation\n",
    "\n",
    "![picture](\"file\")\n",
    "From the chart shown, before data augmentation is applied, the yolov5 outperforms all attention mechanisms models implemented and the MobileV3 net selected for comparison.\n",
    "\n",
    "### 5.2 Before Data augmentation\n",
    "\n",
    "![picture](\"file\") --> likely in results folder\n",
    "After applying mosaic data augmentation technique to our dataset, the SPD attention module outperforms the vanilla yolov5 model and all other models. \n",
    "There is also an overall 30% increase in performance for all models that are trained.\n",
    "\n",
    "\n",
    "## 6.0 Discussion\n",
    "### 6.1 Before Data Augmentation\n",
    "![picture](\"file\")\n",
    "Before data augmentation, the SE-net and ECA-net and other attention modules consistently performed worse than yolov5’s base model. This is because these modules make yolov5's backbone undergo global average pooling twice; once in the added attention mechanism; another time in the SPPP section of the yolov5 backbone. \n",
    "This causes there to be two pooling functions and further loss of distinct characteristics of small sized pedestrians in images and as a result, means lower performance. \n",
    "\n",
    "\n",
    "#### 6.2 After Data Augmentation\n",
    "As mentioned before, mosaic data augmentation generates an extra image that is merged from 1 original image + 3 random images. Due to this reason, our dataset doubled in size and improved detection of smaller-sized pedestrians in bounding boxes of grids that yolov5 creates.\n",
    "\n",
    "### 6.3 Models\n",
    "#### 6.3.1 ECA and SE comparison:\n",
    "![picture](\"file\")\n",
    "The ECA module is an improved methodology for object detestrian than the SEnet. However, the ECAnet performs worse than the SE-net. This is likely because of ECAnet's extra adaptive neighbourhood interaction filtering out the distinct features of small pedestrians in images, hence reducing performance.\n",
    "\n",
    "#### 6.3.2 SPD\n",
    "SPD has better performance in every epoch than all other models. This is because SPD uses a self-made space-to-depth layer such that information from previous layers will be preserved in low-resolution images, hence fits our dataset perfectly.\n",
    "\n",
    "#### 6.3.3 MobileNet V3\n",
    "Mobilenet is a light model with very short training time, however, it consistently performs the worst out of all other models. This is due to the h-swish function having reduced amounts of calculations to make it faster.\n",
    "\n",
    "\n",
    "## 7.0 Conclusion\n",
    "From the experiment, we have discovered that SPD and Mobilenet are able to enhance the performance of YOLOv5l,  regarding on the speed and accuracy. If the power of computation is sufficient, Mobilenet could be a better choice, if there’s no worry about the computation resources at all, we can use the SPD to get better accuracy. \n",
    "\n",
    "\n",
    "\n",
    "\n",
    "\n",
    "\n",
    "\n",
    "\n",
    "\n",
    "\n",
    "\n"
   ]
  }
 ],
 "metadata": {
  "kernelspec": {
   "display_name": "Python 3.9.7 ('base')",
   "language": "python",
   "name": "python3"
  },
  "language_info": {
   "name": "python",
   "version": "3.9.7"
  },
  "orig_nbformat": 4,
  "vscode": {
   "interpreter": {
    "hash": "4da51eb7d5e210ea78def0db91f86fd689bcca95cad0573eb5fbd5c72d2d40dd"
   }
  }
 },
 "nbformat": 4,
 "nbformat_minor": 2
}
