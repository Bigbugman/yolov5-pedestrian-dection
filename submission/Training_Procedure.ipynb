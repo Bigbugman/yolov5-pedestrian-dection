{
 "cells": [
  {
   "cell_type": "markdown",
   "metadata": {},
   "source": [
    "# Training Process (in Google Colab)\n",
    "\n",
    "### Environment: Google Colab\n",
    "* Actually, our models are trained via a remote server provided by one of our group members. Due to this reason, we counld not let the output into notebook to show. However, it is possible to access the logs of the models we have trained. Training logs are shown in the following folders: /afters_dataAug and /before_dataAug.\n",
    "* For testing if our training codes and commands are runable in an eazier way, we decided to show the whole procedure in Colab.\n",
    "* We are 100% sure that these commands are runable in Google Colab. \n",
    "* So we suggest run this notebook in Colab!"
   ]
  },
  {
   "cell_type": "markdown",
   "metadata": {},
   "source": [
    "## 1. git clone our altered yolov5 repo\n",
    "(If you want to run in local machine, just ignore this section)"
   ]
  },
  {
   "cell_type": "code",
   "execution_count": null,
   "metadata": {
    "colab": {
     "base_uri": "https://localhost:8080/"
    },
    "id": "phlVc_pQqxNb",
    "outputId": "287fc54a-88b9-4af7-f0bc-6cfe42d9d620"
   },
   "outputs": [],
   "source": [
    "!git clone https://github.com/PinhengChen/yolov5_for_caltech.git"
   ]
  },
  {
   "cell_type": "markdown",
   "metadata": {},
   "source": [
    "## 2. Install required files for yolov5\n",
    "* This is the command for Colab"
   ]
  },
  {
   "cell_type": "code",
   "execution_count": null,
   "metadata": {
    "colab": {
     "base_uri": "https://localhost:8080/",
     "height": 1000
    },
    "id": "8WoRy7McW5TR",
    "outputId": "63d94e4c-bfc0-498c-baec-6005f7dc7e9e",
    "scrolled": true
   },
   "outputs": [],
   "source": [
    "!pip install -U -r yolov5_for_caltech/requirements.txt"
   ]
  },
  {
   "cell_type": "markdown",
   "metadata": {},
   "source": [
    "* This is the command for local machine"
   ]
  },
  {
   "cell_type": "code",
   "execution_count": null,
   "metadata": {},
   "outputs": [],
   "source": [
    "!pip install -U -r yolov5/requirements.txt"
   ]
  },
  {
   "cell_type": "markdown",
   "metadata": {},
   "source": [
    "## 3. Enter the yolov5_for_caltech folder"
   ]
  },
  {
   "cell_type": "markdown",
   "metadata": {},
   "source": [
    "* This is the command for Colab"
   ]
  },
  {
   "cell_type": "code",
   "execution_count": null,
   "metadata": {
    "colab": {
     "base_uri": "https://localhost:8080/"
    },
    "id": "JUv_2Pj5coML",
    "outputId": "6bcad6ba-dd52-4a96-c210-90de289a34c3"
   },
   "outputs": [],
   "source": [
    "%cd /content/yolov5_for_caltech"
   ]
  },
  {
   "cell_type": "markdown",
   "metadata": {},
   "source": [
    "* This is the command for local machine"
   ]
  },
  {
   "cell_type": "code",
   "execution_count": null,
   "metadata": {},
   "outputs": [],
   "source": [
    "%cd ../yolov5"
   ]
  },
  {
   "cell_type": "markdown",
   "metadata": {},
   "source": [
    "## 4. Import pytorch and check GPU information"
   ]
  },
  {
   "cell_type": "code",
   "execution_count": null,
   "metadata": {
    "colab": {
     "base_uri": "https://localhost:8080/"
    },
    "id": "qHsEd5G2W7mF",
    "outputId": "a4be7bd9-91e7-4b20-b7db-483388b5ce82"
   },
   "outputs": [],
   "source": [
    "import torch\n",
    "from IPython.display import Image  # for displaying images\n",
    "import matplotlib as plt\n",
    "#from utils.google_utils import gdrive_download  # for downloading models/datasets\n",
    "print('torch %s %s' % (torch.__version__, torch.cuda.get_device_properties(0) if torch.cuda.is_available() else 'CPU'))"
   ]
  },
  {
   "cell_type": "markdown",
   "metadata": {},
   "source": [
    "## 5.1 Install Roboflow for downloading our dataset\n",
    "(It's fine to ignore warnings and errors below)"
   ]
  },
  {
   "cell_type": "code",
   "execution_count": null,
   "metadata": {
    "colab": {
     "base_uri": "https://localhost:8080/",
     "height": 1000
    },
    "id": "UMXxAA9Nd6bF",
    "outputId": "b0f17c2d-744e-4282-bf48-3bc4ba9fb911",
    "scrolled": true
   },
   "outputs": [],
   "source": [
    "!pip install roboflow"
   ]
  },
  {
   "cell_type": "markdown",
   "metadata": {},
   "source": [
    "## 5.2 Import the dataset without augmentation from Roboflow\n",
    "Dataset website link: https://universe.roboflow.com/pionc/caltech-6f68o"
   ]
  },
  {
   "cell_type": "code",
   "execution_count": null,
   "metadata": {
    "colab": {
     "base_uri": "https://localhost:8080/"
    },
    "id": "CkZbDQmlCIej",
    "outputId": "2aa5e2fe-9b3d-4a18-e54a-7fcdd2190bd2"
   },
   "outputs": [],
   "source": [
    "### download original dataset\n",
    "from roboflow import Roboflow\n",
    "rf = Roboflow(api_key=\"NkXCXC3zILAYB21nwqZb\")\n",
    "project = rf.workspace(\"pionc\").project(\"caltech-6f68o\")\n",
    "dataset = project.version(4).download(\"yolov5\")"
   ]
  },
  {
   "cell_type": "markdown",
   "metadata": {},
   "source": [
    "## 5.3 Import the dataset with Mosaic\n",
    "Dataset website link: https://universe.roboflow.com/visdronedataset/caltech-ped"
   ]
  },
  {
   "cell_type": "code",
   "execution_count": null,
   "metadata": {
    "colab": {
     "base_uri": "https://localhost:8080/"
    },
    "id": "_8qziblkxDRm",
    "outputId": "ab2e372f-03b7-447d-c2cd-9b9d959dedc4"
   },
   "outputs": [],
   "source": [
    "### download mosaiced dataset\n",
    "rf = Roboflow(api_key=\"NkXCXC3zILAYB21nwqZb\")\n",
    "project = rf.workspace(\"visdronedataset\").project(\"caltech-ped\")\n",
    "dataset = project.version(2).download(\"yolov5\")"
   ]
  },
  {
   "cell_type": "markdown",
   "metadata": {},
   "source": [
    "## 6. Connect to Google drive for saving results.\n",
    "(It's fine to ignore this section if you do not want to save the results)"
   ]
  },
  {
   "cell_type": "code",
   "execution_count": null,
   "metadata": {
    "colab": {
     "base_uri": "https://localhost:8080/"
    },
    "id": "jhs1cUe0yq-d",
    "outputId": "fac16de1-12d4-4fb7-873b-01da52244a3b"
   },
   "outputs": [],
   "source": [
    "### connect google drive for saving results in the drive\n",
    "from google.colab import drive\n",
    "drive.mount('/content/gdrive')"
   ]
  },
  {
   "cell_type": "markdown",
   "metadata": {},
   "source": [
    "## 7.1 Train the original yolov5l model for the dataset without augmentation.\n",
    "We stop the training manually after 1 epoch in this notebook. For more training log details, please see /before_dataAug/base_b4.txt"
   ]
  },
  {
   "cell_type": "markdown",
   "metadata": {},
   "source": [
    "#### * This is the command for colab"
   ]
  },
  {
   "cell_type": "code",
   "execution_count": null,
   "metadata": {
    "colab": {
     "base_uri": "https://localhost:8080/"
    },
    "id": "SQ7p8e8HjPXE",
    "outputId": "f072c68f-6944-4252-d345-5e942f0d7c79"
   },
   "outputs": [],
   "source": [
    "!python train.py --data /content/yolov5_for_caltech/caltech-4/data.yaml --cfg yolov5l.yaml --batch-size -1 --epochs 350"
   ]
  },
  {
   "cell_type": "markdown",
   "metadata": {},
   "source": [
    "#### * This is the command for local machine"
   ]
  },
  {
   "cell_type": "code",
   "execution_count": null,
   "metadata": {},
   "outputs": [],
   "source": [
    "!python ../yolov5/train.py --data caltech-4/data.yaml --cfg ../yolov5/models/yolov5l.yaml --batch-size -1 --epochs 350"
   ]
  },
  {
   "cell_type": "markdown",
   "metadata": {},
   "source": [
    "## 7.2 Train the yolov5l + mobilenetv3 model for the dataset without augmentation.\n",
    "We stop the training manually after 1 epoch in this notebook. For more training log details, please see /before_dataAug/mobile_b4.txt"
   ]
  },
  {
   "cell_type": "markdown",
   "metadata": {},
   "source": [
    "#### * This is the command for Colab"
   ]
  },
  {
   "cell_type": "code",
   "execution_count": null,
   "metadata": {
    "colab": {
     "base_uri": "https://localhost:8080/"
    },
    "id": "RMzybj6bTi3p",
    "outputId": "f346f2cf-57f0-40cb-bce3-69be7695bdf3",
    "scrolled": true
   },
   "outputs": [],
   "source": [
    "!python train.py --data /content/yolov5_for_caltech/caltech-4/data.yaml --cfg yolov5l_mobilenetv3.yaml --batch-size -1 --epochs 350"
   ]
  },
  {
   "cell_type": "markdown",
   "metadata": {},
   "source": [
    "#### * This is the command for local machine"
   ]
  },
  {
   "cell_type": "code",
   "execution_count": null,
   "metadata": {},
   "outputs": [],
   "source": [
    "!python ../yolov5/train.py --data caltech-4/data.yaml --cfg ../yolov5/models/yolov5l_mobilenetv3.yaml --batch-size -1 --epochs 350"
   ]
  },
  {
   "cell_type": "markdown",
   "metadata": {},
   "source": [
    "## 7.3 Train the yolov5l + SE model for the dataset without augmentation.\n",
    "We stop the training manually after 1 epoch in this notebook. For more training log details, please see /before_dataAug/se_b4.txt"
   ]
  },
  {
   "cell_type": "markdown",
   "metadata": {},
   "source": [
    "#### * This is the command for Colab"
   ]
  },
  {
   "cell_type": "code",
   "execution_count": null,
   "metadata": {
    "colab": {
     "base_uri": "https://localhost:8080/"
    },
    "id": "v8oXRNBFyZfa",
    "outputId": "d99c3f20-9ffa-4867-a826-a21aeaee8912",
    "scrolled": true
   },
   "outputs": [],
   "source": [
    "!python train.py --data /content/yolov5_for_caltech/caltech-4/data.yaml --cfg yolov5l_se.yaml --batch-size -1 --epochs 350"
   ]
  },
  {
   "cell_type": "markdown",
   "metadata": {},
   "source": [
    "#### * This is the command for local machine"
   ]
  },
  {
   "cell_type": "code",
   "execution_count": null,
   "metadata": {},
   "outputs": [],
   "source": [
    "!python ../yolov5/train.py --data caltech-4/data.yaml --cfg ../yolov5/models/yolov5l_se.yaml --batch-size -1 --epochs 350"
   ]
  },
  {
   "cell_type": "markdown",
   "metadata": {},
   "source": [
    "## 7.4 Train the yolov5l + ECA model for the dataset without augmentation.\n",
    "We stop the training manually after 1 epoch in this notebook. For more training log details, please see /before_dataAug/eca_b4.txt"
   ]
  },
  {
   "cell_type": "markdown",
   "metadata": {},
   "source": [
    "#### * This is the command for Colab"
   ]
  },
  {
   "cell_type": "code",
   "execution_count": null,
   "metadata": {
    "colab": {
     "base_uri": "https://localhost:8080/"
    },
    "id": "vgemOwTlynxo",
    "outputId": "c3cb6cae-1afe-42c4-902f-1d64dc73920e"
   },
   "outputs": [],
   "source": [
    "!python train.py --data /content/yolov5_for_caltech/caltech-4/data.yaml --cfg yolov5l_eca.yaml --batch-size -1 --epochs 350"
   ]
  },
  {
   "cell_type": "markdown",
   "metadata": {},
   "source": [
    "#### * This is the command for local machine"
   ]
  },
  {
   "cell_type": "code",
   "execution_count": null,
   "metadata": {},
   "outputs": [],
   "source": [
    "!python ../yolov5/train.py --data caltech-4/data.yaml --cfg ../yolov5/models/yolov5l_eca.yaml --batch-size -1 --epochs 350"
   ]
  },
  {
   "cell_type": "markdown",
   "metadata": {},
   "source": [
    "## 7.5 Train the yolov5l + SPD model for the dataset without augmentation.\n",
    "We stop the training manually after 1 epoch in this notebook. For more training log details, please see /before_dataAug/spd_b4.txt"
   ]
  },
  {
   "cell_type": "markdown",
   "metadata": {},
   "source": [
    "#### * This is the command for Colab"
   ]
  },
  {
   "cell_type": "code",
   "execution_count": null,
   "metadata": {
    "colab": {
     "base_uri": "https://localhost:8080/"
    },
    "id": "xaWcqfmsyq0p",
    "outputId": "6e3c2e73-7d54-48ad-d65c-72377d9337b9",
    "scrolled": true
   },
   "outputs": [],
   "source": [
    "!python train.py --data /content/yolov5_for_caltech/caltech-4/data.yaml --cfg yolov5l_spd.yaml --batch-size -1 --epochs 350"
   ]
  },
  {
   "cell_type": "markdown",
   "metadata": {},
   "source": [
    "#### * This is the command for local machine"
   ]
  },
  {
   "cell_type": "code",
   "execution_count": null,
   "metadata": {},
   "outputs": [],
   "source": [
    "!python ../yolov5/train.py --data caltech-4/data.yaml --cfg ../yolov5/models/yolov5l_spd.yaml --batch-size -1 --epochs 350"
   ]
  },
  {
   "cell_type": "markdown",
   "metadata": {},
   "source": [
    "## 8.1 Train the original yolov5l model for the dataset with augmentation.\n",
    "We stop the training manually after 1 epoch in this notebook. For more training details, please see /after_dataAug/base_aft.txt"
   ]
  },
  {
   "cell_type": "markdown",
   "metadata": {},
   "source": [
    "#### * This is the command for Colab"
   ]
  },
  {
   "cell_type": "code",
   "execution_count": null,
   "metadata": {
    "colab": {
     "base_uri": "https://localhost:8080/"
    },
    "id": "hM9YFTJL0kW-",
    "outputId": "4c5fe06f-f908-4c85-86bb-236241fedc6c",
    "scrolled": true
   },
   "outputs": [],
   "source": [
    "!python train.py --data /content/yolov5_for_caltech/caltech-ped-2/data.yaml --cfg yolov5l.yaml --batch-size -1 --epochs 350"
   ]
  },
  {
   "cell_type": "markdown",
   "metadata": {},
   "source": [
    "#### * This is the command for local machine"
   ]
  },
  {
   "cell_type": "code",
   "execution_count": null,
   "metadata": {},
   "outputs": [],
   "source": [
    "!python ../yolov5/train.py --data caltech-ped-2/data.yaml --cfg ../yolov5/models/yolov5l.yaml --batch-size -1 --epochs 350"
   ]
  },
  {
   "cell_type": "markdown",
   "metadata": {},
   "source": [
    "## 8.2 Train the yolov5l + mobilenetv3 model for the dataset with augmentation.\n",
    "We stop the training manually after 1 epoch in this notebook. For more training details, please see /after_dataAug/mobile_aft.txt"
   ]
  },
  {
   "cell_type": "markdown",
   "metadata": {},
   "source": [
    "#### * This is the command for Colab"
   ]
  },
  {
   "cell_type": "code",
   "execution_count": null,
   "metadata": {
    "colab": {
     "base_uri": "https://localhost:8080/"
    },
    "id": "3PQxTwaH0oi7",
    "outputId": "9631ef67-6b1b-4103-c82b-594b4a074b3b",
    "scrolled": true
   },
   "outputs": [],
   "source": [
    "!python train.py --data /content/yolov5_for_caltech/caltech-ped-2/data.yaml --cfg yolov5l_mobilenetv3.yaml --batch-size -1 --epochs 350"
   ]
  },
  {
   "cell_type": "markdown",
   "metadata": {},
   "source": [
    "#### * This is the command for local machine"
   ]
  },
  {
   "cell_type": "code",
   "execution_count": null,
   "metadata": {},
   "outputs": [],
   "source": [
    "!python ../yolov5/train.py --data caltech-ped-2/data.yaml --cfg ../yolov5/models/yolov5l_mobilenetv3.yaml --batch-size -1 --epochs 350"
   ]
  },
  {
   "cell_type": "markdown",
   "metadata": {},
   "source": [
    "## 8.3 Train the yolov5l + SE model for the dataset with augmentation.\n",
    "We stop the training manually after 1 epoch in this notebook. For more training details, please see /after_dataAug/se_aft.txt"
   ]
  },
  {
   "cell_type": "markdown",
   "metadata": {},
   "source": [
    "#### * This is the command for Colab"
   ]
  },
  {
   "cell_type": "code",
   "execution_count": null,
   "metadata": {
    "colab": {
     "base_uri": "https://localhost:8080/"
    },
    "id": "nOPdUl_S1Ene",
    "outputId": "ecd413d6-63ce-46ec-a561-723ced64bab3",
    "scrolled": true
   },
   "outputs": [],
   "source": [
    "!python train.py --data /content/yolov5_for_caltech/caltech-ped-2/data.yaml --cfg yolov5l_se.yaml --batch-size -1 --epochs 350"
   ]
  },
  {
   "cell_type": "markdown",
   "metadata": {},
   "source": [
    "#### * This is the command for local machine"
   ]
  },
  {
   "cell_type": "code",
   "execution_count": null,
   "metadata": {},
   "outputs": [],
   "source": [
    "!python ../yolov5/train.py --data caltech-ped-2/data.yaml --cfg ../yolov5/models/yolov5l_se.yaml --batch-size -1 --epochs 350"
   ]
  },
  {
   "cell_type": "markdown",
   "metadata": {},
   "source": [
    "## 8.4 Train the yolov5l + ECA model for the dataset with augmentation.\n",
    "We stop the training manually after 1 epoch in this notebook. For more training details, please see /after_dataAug/eca_aft.txt"
   ]
  },
  {
   "cell_type": "markdown",
   "metadata": {},
   "source": [
    "#### * This is the command for Colab"
   ]
  },
  {
   "cell_type": "code",
   "execution_count": null,
   "metadata": {
    "colab": {
     "base_uri": "https://localhost:8080/"
    },
    "id": "pW9xNKh-1X1q",
    "outputId": "83b2395d-e559-4da2-87bf-9829b10a74fa"
   },
   "outputs": [],
   "source": [
    "!python train.py --data /content/yolov5_for_caltech/caltech-ped-2/data.yaml --cfg yolov5l_eca.yaml --batch-size -1 --epochs 350"
   ]
  },
  {
   "cell_type": "markdown",
   "metadata": {},
   "source": [
    "#### * This is the command for local machine"
   ]
  },
  {
   "cell_type": "code",
   "execution_count": null,
   "metadata": {},
   "outputs": [],
   "source": [
    "!python ../yolov5/train.py --data caltech-ped-2/data.yaml --cfg ../yolov5/models/yolov5l_eca.yaml --batch-size -1 --epochs 350"
   ]
  },
  {
   "cell_type": "markdown",
   "metadata": {},
   "source": [
    "## 8.5 Train the yolov5l + SPD model for the dataset with augmentation.\n",
    "We stop the training manually after 1 epoch in this notebook. For more training details, please see /after_dataAug/spd_aft.txt"
   ]
  },
  {
   "cell_type": "markdown",
   "metadata": {},
   "source": [
    "#### * This is the command for Colab"
   ]
  },
  {
   "cell_type": "code",
   "execution_count": null,
   "metadata": {
    "colab": {
     "base_uri": "https://localhost:8080/"
    },
    "id": "N-2Uzimi1fkZ",
    "outputId": "a8c31d5f-e0ff-4c3a-9c57-a479f4a688ef",
    "scrolled": true
   },
   "outputs": [],
   "source": [
    "!python train.py --data /content/yolov5_for_caltech/caltech-ped-2/data.yaml --cfg yolov5l_spd.yaml --batch-size -1 --epochs 350"
   ]
  },
  {
   "cell_type": "markdown",
   "metadata": {},
   "source": [
    "#### * This is the command for local machine"
   ]
  },
  {
   "cell_type": "code",
   "execution_count": null,
   "metadata": {},
   "outputs": [],
   "source": [
    "!python ../yolov5/train.py --data caltech-ped-2/data.yaml --cfg ../yolov5/models/yolov5l_spd.yaml --batch-size -1 --epochs 350"
   ]
  },
  {
   "cell_type": "markdown",
   "metadata": {},
   "source": [
    "## 9 Copy result to Google drive\n",
    "If you do not need to copy result to google drive, just ignore this section."
   ]
  },
  {
   "cell_type": "code",
   "execution_count": null,
   "metadata": {
    "id": "la-1lQZWyskB"
   },
   "outputs": [],
   "source": [
    "%cp -r /content/yolov5/runs/train/exp /content/gdrive/MyDrive"
   ]
  }
 ],
 "metadata": {
  "accelerator": "GPU",
  "colab": {
   "provenance": []
  },
  "gpuClass": "premium",
  "kernelspec": {
   "display_name": "Python 3 (ipykernel)",
   "language": "python",
   "name": "python3"
  },
  "language_info": {
   "codemirror_mode": {
    "name": "ipython",
    "version": 3
   },
   "file_extension": ".py",
   "mimetype": "text/x-python",
   "name": "python",
   "nbconvert_exporter": "python",
   "pygments_lexer": "ipython3",
   "version": "3.9.12"
  },
  "vscode": {
   "interpreter": {
    "hash": "d163f16b58e91b4f0c6552c673da9b206828735c514af5e7a3bab2c6fbea8921"
   }
  }
 },
 "nbformat": 4,
 "nbformat_minor": 1
}
