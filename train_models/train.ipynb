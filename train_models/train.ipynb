{
 "cells": [
  {
   "cell_type": "markdown",
   "metadata": {},
   "source": [
    "# How to train\n",
    "\n",
    "### Models trained\n",
    "\n",
    "Models are trained via a remote server provided by one of our group members. Due to this reason, we could not let the output into our notebook to show. However, it was possible to access the logs of the models we have trained. This is shown in the folders: \n",
    "\n",
    "`afters_dataAug` and `before_dataAug`.\n",
    "\n"
   ]
  }
 ],
 "metadata": {
  "kernelspec": {
   "display_name": "Python 3.9.7 ('base')",
   "language": "python",
   "name": "python3"
  },
  "language_info": {
   "name": "python",
   "version": "3.9.7"
  },
  "orig_nbformat": 4,
  "vscode": {
   "interpreter": {
    "hash": "4da51eb7d5e210ea78def0db91f86fd689bcca95cad0573eb5fbd5c72d2d40dd"
   }
  }
 },
 "nbformat": 4,
 "nbformat_minor": 2
}
